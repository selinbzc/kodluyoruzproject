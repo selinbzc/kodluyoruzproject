{
 "cells": [
  {
   "cell_type": "markdown",
   "id": "409f0f4a",
   "metadata": {},
   "source": [
    "**Ödev-1:** Kullanıcıdan maaş bilgisini istenir ve bu bilgiye göre maaşından ne kadar vergi kesileceğini hesaplanır. Kullanıcının geliri;\n",
    "\n",
    "1. 10000 ve altındaysa maaşından %5 kesinti olur.\n",
    "2. 25000 ve altındaysa maaşından %10 kesinti olur.\n",
    "3. 45000 ve altındaysa maaşından %25 kesinti olur.\n",
    "4. Diğer koşullarda %30 kesinti olur.\n",
    "\n",
    "Bu durumlara göre kullanıcının yeni maaşı yazdırılır."
   ]
  },
  {
   "cell_type": "code",
   "execution_count": null,
   "id": "5246e510",
   "metadata": {},
   "outputs": [],
   "source": [
    "key = 1\n",
    "while key == 1:\n",
    "    maas = int(input(\"maaş miktarınızı türk lirası cinsinden giriniz: \"))\n",
    "\n",
    "    if maas <= 10000:\n",
    "        yeni_maas = maas - (maas * 0.05)\n",
    "        print(\"maasiniz su kadardir: \", yeni_maas)\n",
    "    \n",
    "    elif maas <= 25000:\n",
    "        yeni_maas = maas - (maas * 0.1)\n",
    "        print(\"maasiniz su kadardir: \", yeni_maas)\n",
    "    \n",
    "    elif maas <= 45000:\n",
    "        yeni_maas = maas - (maas * 0.25)\n",
    "        print(\"maasiniz su kadardir: \", yeni_maas)\n",
    "\n",
    "    elif maas >= 46000:\n",
    "        yeni_maas = maas - (maas * 0.30)\n",
    "        print(\"maasiniz su kadardir: \", yeni_maas)\n",
    "\n",
    "    else:\n",
    "        print(\"hatali tuslama\")\n",
    "        break"
   ]
  },
  {
   "cell_type": "markdown",
   "id": "f5fe8798",
   "metadata": {},
   "source": [
    "**Ödev-2:** Kullanıcıdan kullanıcı adı ve şifre oluşturmasını istenir. Şifrenin uzunluğu altı haneye ulaşmışsa hesabınız oluşturuldu mesajı alınır, altı haneden azsa altı haneli şifre oluşturması gerektiğinin mesajı alınır. *(Sadece koşul kullanılması yeterli.)*"
   ]
  },
  {
   "cell_type": "code",
   "execution_count": null,
   "id": "6acffe57",
   "metadata": {},
   "outputs": [],
   "source": [
    "while True:\n",
    "    kullanici_adi = input(\"kullanıcı adı oluşturun: \")\n",
    "    sifre = input(\"şifre oluşturun: \")\n",
    "\n",
    "    if len(sifre) >= 6:\n",
    "        print(\"hesabınız oluşturuldu\")\n",
    "        break\n",
    "    else:\n",
    "        print(\"şfreniz en az altı karakter uzunluğunda olmalıdır. lütfen yeniden deneyin\")\n",
    "\n",
    "\n"
   ]
  },
  {
   "cell_type": "markdown",
   "id": "aaccf11a",
   "metadata": {},
   "source": [
    "**Ödev-3:** Bir önceki örnek geliştirilir.\n",
    "\n",
    "1. Kullanıcı girdiği şifre 5 ve 10 hane arasında olmak zorunda.\n",
    "2. Eğer bu koşula uyuyorsa \"Hesabınız oluşturuldu.\" mesajı alır.\n",
    "3. Koşulu sağlamıyorsa \"Lütfen girdiniz şifre 5 haneden az 10 haneden fazla olmasın!\" uyarısı alır.\n",
    "4. Bunu oluştururken kullanıcı istediğimiz şartlarda şifre oluşturana kadar sormaya devam eder"
   ]
  },
  {
   "cell_type": "code",
   "execution_count": null,
   "id": "039e50dc",
   "metadata": {},
   "outputs": [],
   "source": [
    "while True:\n",
    "    kullanici_adi = input(\"kullanıcı adı oluşturun: \")\n",
    "    sifre = input(\"şifre oluşturun: \")\n",
    "\n",
    "    if 5 <= len(sifre) <= 10:\n",
    "        print(\"hesabınız oluşturuldu\")\n",
    "        break\n",
    "    else:\n",
    "        print(\"Lütfen girdiniz şifre 5 haneden az 10 haneden fazla olmasın!\")"
   ]
  },
  {
   "cell_type": "markdown",
   "id": "8ba81863",
   "metadata": {},
   "source": [
    "**Ödev-4:** Kullanıcıdan isim ve şifre isteyeceğiz ve şifre girişi için üç hak verilir.\n",
    "\n",
    "1. Eğer önceden tanımlı şifre ile kullanıcıdan gelen şifre aynıysa \"Giriş yapıldı.\" yazar.\n",
    "2. Şifre girişi yanlışsa \"Yanlış şifre girildi!\" uyarısı verilsin ve üç yanlış denemede program biter.\n",
    "3. Tercihe göre kalan hak bilgisi verilir."
   ]
  },
  {
   "cell_type": "code",
   "execution_count": null,
   "id": "8f45ea0c",
   "metadata": {},
   "outputs": [],
   "source": [
    "def giris():\n",
    "    sifre = \"1234selocan\"\n",
    "\n",
    "    for i in range(3):\n",
    "        kullanici_adi = input(\"lütfen kullanıcı adınızı girinz\")\n",
    "        sifre1 = input(\"lütfen şifrenizi giriniz\")\n",
    "        \n",
    "        if sifre1 == sifre:\n",
    "            print(\"şifreniz doğru\")\n",
    "            break\n",
    "        \n",
    "        else:\n",
    "            print(\"yanlış şifre girdiniz.\")\n",
    "    else:\n",
    "        print(\"3 kez yanlış girdiniz, programdan çıkılıyor\")\n",
    "\n",
    "giris()"
   ]
  }
 ],
 "metadata": {
  "kernelspec": {
   "display_name": "Python 3 (ipykernel)",
   "language": "python",
   "name": "python3"
  },
  "language_info": {
   "codemirror_mode": {
    "name": "ipython",
    "version": 3
   },
   "file_extension": ".py",
   "mimetype": "text/x-python",
   "name": "python",
   "nbconvert_exporter": "python",
   "pygments_lexer": "ipython3",
   "version": "3.9.12"
  }
 },
 "nbformat": 4,
 "nbformat_minor": 5
}
