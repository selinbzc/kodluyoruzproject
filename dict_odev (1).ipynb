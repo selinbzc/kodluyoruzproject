{
 "cells": [
  {
   "cell_type": "markdown",
   "metadata": {},
   "source": [
    "### Ödev 1\n",
    "\n",
    "Bir sözlük oluşturulur ve bu sözlükte öğrencilerin isimleri ve Matematik, Fizik, Kimya notları tutulur. Kullanıcıdan isim ve ders ismi(Matematik, Fizik, Kimya) istenir ve bu bilgilere göre çıktı verilir."
   ]
  },
  {
   "cell_type": "code",
   "execution_count": null,
   "metadata": {},
   "outputs": [],
   "source": [
    "ogrenciler = {\n",
    "    \"Zeynep\": {\"Matematik\": 85, \"Fizik\": 78, \"Kimya\": 92},\n",
    "    \"Selin\": {\"Matematik\": 90, \"Fizik\": 88, \"Kimya\": 95},\n",
    "    \"Mehmet\": {\"Matematik\": 76, \"Fizik\": 80, \"Kimya\": 84},\n",
    "    \"Ege\": {\"Matematik\": 82, \"Fizik\": 85, \"Kimya\": 89}\n",
    "}\n",
    "\n",
    "isim = input(\"Öğrencinin ismini girin: \")\n",
    "ders = input(\"Ders ismini girin (Matematik, Fizik, Kimya): \")\n",
    "\n",
    "if isim in ogrenciler and ders in ogrenciler[isim]:\n",
    "    notu = ogrenciler[isim][ders]\n",
    "    print(f\"{isim} adlı öğrencinin {ders} dersi notu: {notu}\")\n",
    "else:\n",
    "    print(\"Girilen isim veya ders bilgisi bulunamadı.\")\n"
   ]
  },
  {
   "cell_type": "markdown",
   "metadata": {},
   "source": [
    "### Ödev 2\n",
    "\n",
    "Sözlük üzerinde değerleri değiştirme, yeni değer ekleme, kullanıcıya ulaşmak istediği bilgileri sorma gibi uygulamalar yapın."
   ]
  },
  {
   "cell_type": "code",
   "execution_count": null,
   "metadata": {},
   "outputs": [],
   "source": [
    "ogrenciler = {\n",
    "    \"Zeynep\": {\"Matematik\": 85, \"Fizik\": 78, \"Kimya\": 92},\n",
    "    \"Selin\": {\"Matematik\": 90, \"Fizik\": 88, \"Kimya\": 95},\n",
    "    \"Mehmet\": {\"Matematik\": 76, \"Fizik\": 80, \"Kimya\": 84},\n",
    "    \"Ege\": {\"Matematik\": 82, \"Fizik\": 85, \"Kimya\": 89}\n",
    "}\n",
    "\n",
    "def ogrenci_notu_degistir(ogrenciler):\n",
    "\n",
    "    isim = input(\"Öğrencinin ismini girin: \")\n",
    "    ders = input(\"Ders ismini girin (Matematik, Fizik, Kimya): \")\n",
    "    yeni_not = int(input(f\"{isim} adlı öğrencinin {ders} dersi için yeni notu girin: \"))\n",
    "\n",
    "    if isim in ogrenciler and ders in ogrenciler[isim]:\n",
    "        ogrenciler[isim][ders] = yeni_not\n",
    "        print(f\"{isim} adlı öğrencinin {ders} dersi notu {yeni_not} olarak güncellendi.\")\n",
    "    else:\n",
    "        print(\"Girilen isim veya ders bilgisi bulunamadı.\")"
   ]
  }
 ],
 "metadata": {
  "language_info": {
   "name": "python"
  }
 },
 "nbformat": 4,
 "nbformat_minor": 2
}
